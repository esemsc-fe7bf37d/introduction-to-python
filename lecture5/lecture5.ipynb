{
 "cells": [
  {
   "cell_type": "code",
   "execution_count": 1,
   "metadata": {},
   "outputs": [],
   "source": [
    "import pybryt\n",
    "from lecture import pybryt_reference"
   ]
  },
  {
   "cell_type": "markdown",
   "metadata": {},
   "source": [
    "# Introduction to Python\n",
    "\n",
    "# Lecture 5\n",
    "\n",
    "## Introduction\n",
    "\n",
    "As we saw in [lecture 4](..\\lecture4\\lecture4.ipynb), Python classes combine a storing data (attributes) and functions (methods) that process that data. They act as a way to create new data types. In the previous lecture, we learned some of the individual features of classes. In this section we will learn to put multiple features together to implement and improve a class based on the functionality we need it to provide.\n",
    "\n",
    "## Example 1: Quaternions\n",
    "\n",
    "Just as complex numbers extend the set of real numbers into a \"two-dimensional\" space, [quaternions](https://en.wikipedia.org/wiki/Quaternion) extend the concept of \"2D\" complex numbers into a \"four-dimensional\" space. Quaternions are used in computer graphics, control theory, signal processing, and orbital mechanics, and more generally in areas involving applying multiple rotations or scalings using floating point arthimetic. In the realm of science, they are also used in physics to describe the quantum spin of a particle. We are going to briefly describe the mathematical properties of quaternions as numbers and then you will work to implement a class to represent them.\n",
    "\n",
    "### Basic Definition\n",
    "\n",
    "A quarterions is an object (viewed as a single number) consisting four real coefficients, say $a$, $b$, $c$, and $d$, along with rules for addition, mutilplication by a scalar, and multiplication by another quaternion. The rules are as follows:\n",
    "\n",
    "1. Addition: \n",
    "  $$(a, b, c, d) + (e, f, g, h) = (a+e, b+f, c+g, d+h)$$\n",
    "2. Multiplication by a scalar:\n",
    "  $$r(a, b, c, d) = (ra, rb, rc, rd)$$\n",
    "3. Multiplication by another quaternion: \n",
    "  $$(a, b, c, d)(e, f, g, h) = (ae - bf - cg - dh, af + be + ch - dg, ag - bh + ce + df, ah + bg - cf + de)$$\n",
    "These rules are enough to define the quaternions as a number system, as well as a [vector space](https://en.wikipedia.org/wiki/Vector_space) over the real numbers.\n",
    "\n",
    "Just as a complex number can be written in the form $a + bi$ (or in Python in a form like `1+2j`), a quaternion can be written in the form $a + bi + cj + dk$. This means they keep both engineers and mathematicians happy by having `i` & `j` both denote complex components of the number.\n",
    "\n",
    "By the rules of multiplication above we have:\n",
    "$$ i^2 = j^2 = k^2 = ijk = -1, $$\n",
    "$$ ij = k, \\quad jk = i, \\quad ki = j. $$\n",
    "In this sense, we can think of the $i$, $j$ and $k$ as three separate complex dimensions.\n",
    "\n",
    "### Implementing Quaternions\n",
    "\n",
    "This is enough information to start implementing a class to represent quaternions. We'll do this in a single cell immediately below. As you work through this section, we'll add more features to the class, and need to re-run the cell to update the class definition. If anything doesn't work or your results get confusing, try restarting the Python kernel and re-running that cell to see it it cleans up the problem.\n",
    "\n",
    "#### The Class Definition cell"
   ]
  },
  {
   "cell_type": "code",
   "execution_count": 2,
   "metadata": {},
   "outputs": [],
   "source": [
    "import numpy as np\n",
    "\n",
    "# Remember to re-run this cell after you've modified the class below\n",
    "# Carry on reading to see what to implement.\n",
    "\n",
    "\n",
    "class Quaternion:\n",
    "    \"\"\"Initializes a quaternion with the given values.\n",
    "\n",
    "    The first value is the real part, the rest are the imaginary parts. The imaginary\n",
    "    parts are i, j, and k.  For example, Quaternion(1, 2, 3, 4) represents the\n",
    "    quaternion 1 + 2i + 3j + 4k.\n",
    "\n",
    "    \"\"\"\n",
    "    def __init__(self, *args, **kwargs):\n",
    "        \n",
    "        # Initialize all components to 0\n",
    "        num_components = 4\n",
    "        components = [0] * num_components\n",
    "\n",
    "        self._1, self._i, self._j, self._k = components\n",
    "        \n",
    "        # Check if any arguments are present, and then proceed\n",
    "        if args:\n",
    "            if type(args[0]) == str:\n",
    "                components = args[0].replace('+', ' ').replace('-', ' -').split()                \n",
    "                for component in components:\n",
    "                    if \"i\" in component:\n",
    "                        self._i = float(component[:-1])\n",
    "                    elif \"j\" in component:\n",
    "                        self._j = float(component[:-1])\n",
    "                    elif \"k\" in component:\n",
    "                        self._k = float(component[:-1])\n",
    "                    else:\n",
    "                        self._1 = float(component)\n",
    "            else:\n",
    "    \n",
    "                # Combine positional args and pad with zeros\n",
    "                input_components = []\n",
    "                if type(args[0]) == list:\n",
    "                    input_components = args[0]\n",
    "                else:\n",
    "                    input_components = args\n",
    "                components[:len(input_components)] = input_components\n",
    "                \n",
    "                # Unpack components\n",
    "                self._1, self._i, self._j, self._k = components[:num_components]\n",
    "            \n",
    "        # Handle keyword arguments to override any of the components\n",
    "        if kwargs:\n",
    "            if \"a\" in kwargs:\n",
    "                self._1 = kwargs[\"a\"]\n",
    "            if \"b\" in kwargs:\n",
    "                self._i = kwargs[\"b\"]\n",
    "            if \"c\" in kwargs:\n",
    "                self._j = kwargs[\"c\"]\n",
    "            if \"d\" in kwargs:\n",
    "                self._k = kwargs[\"d\"]\n",
    "\n",
    "    \n",
    "    def __str__(self):\n",
    "        \"\"\"Returns the string representation of the quaternion.\"\"\"\n",
    "\n",
    "        # Helper function to format components\n",
    "        def format_component(value, suffix):\n",
    "            return f\" {'+' if value >= 0 else '-'} {abs(value)}{suffix}\"\n",
    "\n",
    "        # Format each component\n",
    "        components = [\n",
    "            f\"{self._1}\",\n",
    "            format_component(self._i, \"i\"),\n",
    "            format_component(self._j, \"j\"),\n",
    "            format_component(self._k, \"k\"),\n",
    "        ]\n",
    "\n",
    "        return \"\".join(components)\n",
    "\n",
    "    def __repr__(self):\n",
    "        return f\"Quaternion({self._1}, {self._i}, {self._j}, {self._k})\"\n",
    "\n",
    "    def __add__(self, other):\n",
    "        \"\"\"Implements addition with quaterions using +\"\"\"\n",
    "        return Quaternion(self._1 + other._1, self._i + other._i, self._j + other._j, self._k + other._k)\n",
    "\n",
    "    def __sub__(self, other):\n",
    "        \"\"\"Implements subtraction with quaterions using -\"\"\"\n",
    "        return Quaternion(self._1 - other._1, self._i - other._i, self._j - other._j, self._k - other._k)\n",
    "\n",
    "    def __mul__(self, other):\n",
    "        \"\"\"Implements multiplication with quaternions using *\"\"\"\n",
    "        if isinstance(other, Quaternion):\n",
    "            component1 = self._1 * other._1 - self._i * other._i - self._j * other._j - self._k * other._k\n",
    "            component2 = self._1 * other._i + self._i * other._1 + self._j * other._k - self._k * other._j\n",
    "            component3 = self._1 * other._j - self._i * other._k + self._j * other._1 + self._k * other._i\n",
    "            component4 = self._1 * other._k + self._i * other._j - self._j * other._i + self._k * other._1\n",
    "            return Quaternion(component1, component2, component3, component4)\n",
    "        else:\n",
    "            return Quaternion(self._1 * other, self._i * other, self._j * other, self._k * other)\n",
    "\n",
    "    def __rmul__(self, other):\n",
    "        \"\"\"Implements left multiplication with quaternions\"\"\"\n",
    "        if isinstance(other, Quaternion):\n",
    "            return other.__mul__(self)\n",
    "        else:\n",
    "            q1 = Quaternion(other, 0, 0, 0)\n",
    "            return q1.__mul__(self)\n",
    "\n",
    "    def conjugate(self):\n",
    "        \"\"\"Returns the conjugate of the quaternion\"\"\"\n",
    "        return Quaternion(self._1, -self._i, -self._j, -self._k)\n",
    "\n",
    "    def __abs__(self):\n",
    "        \"\"\"Return the absolute value of the quaternion\"\"\"\n",
    "        return np.linalg.norm([self._1, self._i, self._j, self._k], ord = 2)\n",
    "\n",
    "    def inverse(self):\n",
    "        \"\"\"Returns the inverse of the quaternion\"\"\"\n",
    "        dot_prod = self.__abs__() ** 2\n",
    "        return self.conjugate() * (1 / dot_prod)\n",
    "\n",
    "    def __eq__(self, other):\n",
    "        \"\"\"Implements comparing quaternions using ==\"\"\"\n",
    "        bool1 = self._1 == other._1\n",
    "        bool2 = self._i == other._i\n",
    "        bool3 = self._j == other._j\n",
    "        bool4 = self._k == other._k\n",
    "        return bool1 and bool2 and bool3 and bool4"
   ]
  },
  {
   "cell_type": "code",
   "execution_count": 3,
   "metadata": {},
   "outputs": [
    {
     "name": "stdout",
     "output_type": "stream",
     "text": [
      "0 + 0i + 5.0j + 8.0k\n"
     ]
    }
   ],
   "source": [
    "q = Quaternion(\"8k + 5j\")\n",
    "print(q)"
   ]
  },
  {
   "cell_type": "markdown",
   "metadata": {},
   "source": [
    "As with most classes, the first thing to do is to implement the initialisation method so that we can create new instances of the class from appropriate information. In this case, we've done this for you, and chosen the names of the attributes to be `_1`, `_i`, `_j`, and `_k`.\n",
    "\n",
    "We've also implemented the `__str__` method, which is called when the object is printed (as well as a few other times). This is a good way to check that the initialisation method is working as expected, and we can use it to test the core class initialisation."
   ]
  },
  {
   "cell_type": "code",
   "execution_count": 4,
   "metadata": {
    "tags": [
     "nbgrader"
    ]
   },
   "outputs": [],
   "source": [
    "assert str(Quaternion(1, 2, 3, 4)) == \"1 + 2i + 3j + 4k\""
   ]
  },
  {
   "cell_type": "markdown",
   "metadata": {},
   "source": [
    "The cell block above will show no output if the class is implemented correctly. If you see a `NameError`, then make sure that you've run the cell defining the `Quaternion` class. If you see an `AssertionError`, then\n",
    "make sure you haven't changed the initialisation or `__str__` method.\n",
    "\n",
    "### Implementing the Addition Method\n",
    "\n",
    "With the code we've already given you, you'll first need to implement the addition and multiplication methods. The addition method name to use the `+` operator is `__add__`, and it takes two arguments. The first argument is always the object itself (and as with the initialisation and `__str__` methods, it is good practice to use `self` to refer to it). The second argument is the other object being added - the Python convention is to call it `other`. This means the method signature is\n",
    "\n",
    "```python\n",
    "   def __add__(self, other):\n",
    "     # method body ending with a return statement\n",
    "```\n",
    "\n",
    "Add this method to the Quaterion class above, and implement the addition rule\n",
    "\n",
    "$$a+b\\mathit{i}+c\\mathit{j}+d\\mathit{k} + e+f\\mathit{i}+g\\mathit{j}+h\\mathit{k} = a+e+(b+f)\\mathit{i}+(c+g)\\mathit{j}+(d+h)\\mathit{k}.$$\n",
    "\n",
    "Once you're done, we can test the method by adding two quaternions together (Remember to re-run the class cell above after you've made changes to the class definition). If you see a `TypeError`, then check you've added the `__add__` method correctly (and rerun the class cell). One common mistake is geting the wrong amount of white space indentation. If you see an `AssertError` then your returned value isn't right."
   ]
  },
  {
   "cell_type": "code",
   "execution_count": 5,
   "metadata": {
    "tags": [
     "nbgrader"
    ]
   },
   "outputs": [],
   "source": [
    "q1 = Quaternion(1, 2, 3, 4)\n",
    "q2 = Quaternion(5, 6, 7, 8)\n",
    "\n",
    "assert str(q1 + q2) == \"6 + 8i + 10j + 12k\", \"Got: \" + str(q1 + q2)"
   ]
  },
  {
   "cell_type": "markdown",
   "metadata": {},
   "source": [
    "### Implementing the Multiplication Method\n",
    "\n",
    "Now, we want to implement multiplication. The method name is `__mul__`, and it takes the same arguments as the addition method. This means that method signature is\n",
    "\n",
    "```python\n",
    "   def __mul__(self, other):\n",
    "     # method body ending with a return statement\n",
    "```\n",
    "\n",
    "Here the method body will need to be a little more complicated, since there are two possible cases:\n",
    "- If `other` is a scalar number, then we need to multiply each component of the quaternion by `other`.\n",
    "- If `other` is another quaternion, then we need to use the multiplication rule above.\n",
    "\n",
    "We can check the type of `other` using the `isinstance` function. This function takes two arguments, the first is the object to check, and the second is the type to check against. It returns `True` if the object is of the given type, and `False` otherwise. For example, `isinstance(3, int)` returns `True`, and `isinstance(3, float)` returns `False`. In this case, we want to check if the `other` is a `Quaternion` object or not, using `isinstance(other, Quaternion)`.\n",
    "\n",
    "The \"quick\" way to implement scalar multiplication is just to code up the multiplication rule for quaternions, and if `other` is not a `Quaternion` object, then convert it into one with the scalar as the first component, i.e. creating `Quaternion(other, 0, 0, 0)`. Alternatively, you can use a set of `if`, `elif` and (if necessary) `else` statements to handle the cases separately. In the first case, your code will look something like\n",
    "\n",
    "```python\n",
    "def __mul__(self, other):\n",
    "   if not isinstance(other, Quaternion):\n",
    "      other = Quaternion(other, 0, 0, 0)\n",
    "  # rest of the method body    \n",
    "```\n",
    "\n",
    "in the second case, your code will look something like\n",
    "\n",
    "```python\n",
    "def __mul__(self, other):\n",
    "   if isinstance(other, Quaternion):\n",
    "      # result = multiplication rule for quaternion\n",
    "      return result\n",
    "   else:\n",
    "      # multiplication rule for scalar\n",
    "      return result\n",
    "```\n",
    " \n",
    "Try to implement all this, and then run our test cases below."
   ]
  },
  {
   "cell_type": "code",
   "execution_count": 6,
   "metadata": {
    "tags": [
     "nbgrader"
    ]
   },
   "outputs": [],
   "source": [
    "q1 = Quaternion(1, 2, 3, 4)\n",
    "q2 = Quaternion(5, 6, 7, 8)\n",
    "\n",
    "assert str(q1 * q2) == \"-60 + 12i + 30j + 24k\", \"Got: \" + str(q1 * q2)\n",
    "assert str(q2 * q1) == \"-60 + 20i + 14j + 32k\", \"Got: \" + str(q2 * q1)\n",
    "assert str(q1 * 3) == \"3 + 6i + 9j + 12k\", \"Got: \" + str(q1 * 3)"
   ]
  },
  {
   "cell_type": "markdown",
   "metadata": {},
   "source": [
    "### Additional Methods\n",
    "\n",
    "We've now implemented a method to multiply \"from the left\", i.e. solving `q * other`, but for the purposes of scalar multiplication, we also need to implement a method to multiply \"from the right\", i.e. solving `other * q`.\n",
    "\n",
    "The appropriate special method (also called a \"magic method\" or \"dunder method\") name is `__rmul__`, and it takes the same arguments as the multiplication method, except this time \"other\" is the object on the left. This means that method signature is\n",
    "\n",
    "```python\n",
    "   def __rmul__(self, other):\n",
    "     # method body ending with a return statement\n",
    "```\n",
    "\n",
    "Note that we can't just call `return self.__mul__(other)` here, since for quaternions, multiplication is not commutative (i.e. `q1 * q2` is not equal to `q2 * q2` for general quaternions `q1` and `q2`). Again there are several ways to solve this, but the one involving least code is to make `other` into a `Quaternion` object if it isn't already, and then call its `__mul__` method on self (either explicity as `other.__mul__(self)` or implicitly through `other*self`).\n",
    "\n"
   ]
  },
  {
   "cell_type": "code",
   "execution_count": 7,
   "metadata": {
    "tags": [
     "nbgrader"
    ]
   },
   "outputs": [],
   "source": [
    "q1 = Quaternion(1, 2, 3, 4)\n",
    "\n",
    "assert str(3 * q1) == \"3 + 6i + 9j + 12k\", \"Got: \" + str(3 * q1)"
   ]
  },
  {
   "cell_type": "markdown",
   "metadata": {},
   "source": [
    "We've now implemented the core arthmetic operations for quaternions, and can move on to more advanced features. Let's start by defining the conjugate of a quaternion. Just as the conjugate of a complex number $z= a+b\\mathit{i}$ is $\\bar{z} = a - b\\mathit{i}$,  the conjugate of a quaternion $q = a + b\\mathit{i} + c\\mathit{j} + d\\mathit{k}$ is defined as $\\bar{q} = a - b\\mathit{i} - c\\mathit{j} - d\\mathit{k}$. \n",
    "\n",
    "We can implement this as a method `conjugate` that takes no additional arguments, and returns a new quaternion object with the \"imaginary\" parts negated. The method signature should be\n",
    "\n",
    "```python\n",
    "   def conjugate(self):\n",
    "     # method body ending with a return statement\n",
    "```\n",
    "\n",
    "Note that $q\\bar{q} := \\|q\\|^2 = a^2 + b^2 + c^2 + d^2$, which is a positive real number. We can define the inverse or reciprocal of a quaternion as $\\frac{\\bar{q}}{\\|q\\|^2}$, and implement this as a method `inverse`.\n",
    "```python\n",
    "   def inverse(self):\n",
    "     # method body ending with a return statement\n",
    "```\n",
    "It's not technically correct to call this division, due to the non-commutative nature of quaternion multiplication. This means that there are two \"inverse functions\" for multiplication, one which solves $xa = b$ for $x$ and one which solves $ax = b$. Using the notation $a^{-1}$ for the inverse above, the inverse from the right is $ba^{-1}$ and the inverse is $a^{-1}b$.\n",
    "\n",
    "Instead of computing the magnitude $|q|$ inside the `inverse` method, implement the special `__abs__` method. This method will be called when built in `abs` function is called on a Quaternion object. Its signature is:\n",
    "```python\n",
    "   def __abs____(self):\n",
    "     # method body ending with a return statement\n",
    "```\n",
    "\n",
    "Try to implement the `conjugate` and `inverse` methods in your `Quaternion` class above, and then run the test cases below."
   ]
  },
  {
   "cell_type": "code",
   "execution_count": 8,
   "metadata": {
    "tags": [
     "nbgrader"
    ]
   },
   "outputs": [],
   "source": [
    "q1 = Quaternion(1, 1, 1, 1)\n",
    "\n",
    "assert str(q1.conjugate()) == \"1 - 1i - 1j - 1k\", \"Got: \" + str(q1.conjugate())\n",
    "assert str(abs(q1)) == \"2.0\", \"Got: \" + str(abs(q1))\n",
    "assert str(q1.inverse()) == \"0.25 - 0.25i - 0.25j - 0.25k\", \"Got: \" + str(q1.inverse())"
   ]
  },
  {
   "cell_type": "markdown",
   "metadata": {},
   "source": [
    "### Refactoring the class (optional)\n",
    "\n",
    "We've now implemented all the basic functionality of quaternions. However, the class is not particularly user-friendly. Here is a list of some things you could improve:\n",
    "\n",
    "- The `__init__` method is currently not very user-friendly. It would be nice if we could create a quaternion in a few extra ways:\n",
    "  - Let `Quaternion(1) == Quaternion(1, 0, 0, 0)`.\n",
    "  - Let `Quaternion(1+2j) == Quaternion(1, 2, 0, 0)`.\n",
    "  - Let `Quaternion([1, 2, 3, 4]) == Quaternion(1, 2, 3, 4)`.\n",
    "  \n",
    "This can be done in a number of ways. One lower effort solution is to use the `*args` and/or `**kwargs` syntax to allow for a variable number of arguments and keyword arguments. "
   ]
  },
  {
   "cell_type": "code",
   "execution_count": 9,
   "metadata": {},
   "outputs": [
    {
     "name": "stdout",
     "output_type": "stream",
     "text": [
      "(1, 2)\n",
      "(1, 2, 3, 4, 5)\n",
      "(1, 2, 3, 4, 5)\n",
      "([1, 2, 3],)\n",
      "('1+2j',)\n"
     ]
    }
   ],
   "source": [
    "def function_with_var_args(*args, **kwargs):\n",
    "    print(args)\n",
    "\n",
    "function_with_var_args(1, 2)\n",
    "function_with_var_args(1, 2, 3, 4, 5)\n",
    "function_with_var_args(1, 2, 3, 4, 5, a=6, b=7, c=8)\n",
    "function_with_var_args([1, 2, 3])\n",
    "function_with_var_args(\"1+2j\")"
   ]
  },
  {
   "cell_type": "markdown",
   "metadata": {},
   "source": [
    "Another things we can implement are:\n",
    "\n",
    "- We have implemented the `__str__` method, but not the `__repr__` method. The `__repr__` method is called when the object is printed in a list or dictionary, and should return a string that can be used to recreate the object. For example, `repr(Quaternion(1, 2, 3, 4))` should return the string `\"Quaternion(1, 2, 3, 4)\"`. If we copy/paste the output of `__repr__`, we should get the same object.\n",
    "- We have implemented the `__add__`, `__mul__` and  `__rmul__`, methods, but not the `__sub__`, `__eq__` methods (or a few others).\n"
   ]
  },
  {
   "cell_type": "code",
   "execution_count": 10,
   "metadata": {
    "tags": [
     "nbgrader"
    ]
   },
   "outputs": [],
   "source": [
    "assert repr(Quaternion(1, -2, 3, 4)) == \"Quaternion(1, -2, 3, 4)\"\n",
    "\n",
    "assert Quaternion(1) == Quaternion(1, 0, 0, 0)\n",
    "assert Quaternion(1, 2) == Quaternion(1, 2, 0, 0)\n",
    "assert Quaternion(b=2) == Quaternion(0, 2, 0, 0)\n",
    "\n",
    "assert Quaternion(1, 2, 3, 4) - Quaternion(5, 6, 7, 8) == Quaternion(-4, -4, -4, -4)"
   ]
  },
  {
   "cell_type": "code",
   "execution_count": 11,
   "metadata": {
    "tags": [
     "pybryt"
    ]
   },
   "outputs": [
    {
     "name": "stdout",
     "output_type": "stream",
     "text": [
      "REFERENCE: exercise-5_1\n",
      "SATISFIED: True\n",
      "MESSAGES:\n",
      "  - SUCCESS: Your repr method is correctly implemented. Well done!\n",
      "  - SUCCESS: Great! Your str method is correctly implemented.\n",
      "  - SUCCESS: Your __add__ method is correctly implemented.\n",
      "  - SUCCESS: Your __sub__ method is correctly implemented.\n",
      "  - SUCCESS: Your implementation of multiplication with a scalar is correct.\n",
      "  - SUCCESS: Your __mul__ method is correctly implemented.\n",
      "  - SUCCESS: Your __abs__ method is correctly implemented.\n",
      "  - SUCCESS: The conjugate of a quaternion is correct.\n"
     ]
    }
   ],
   "source": [
    "with pybryt.check(pybryt_reference(5, 1)):\n",
    "    q1 = Quaternion(1, -2, 3, -4)\n",
    "    q2 = Quaternion(15, 2, 0, -1)\n",
    "\n",
    "    repr(q1), str(q1)\n",
    "    repr(q1 + q2)\n",
    "    repr(q2 - q1)\n",
    "    repr(5 * q1)\n",
    "    repr(q1 * q2)\n",
    "    abs(q1)\n",
    "    repr(q1.conjugate())"
   ]
  },
  {
   "cell_type": "markdown",
   "metadata": {},
   "source": [
    "## Example 2: Building Triangles\n",
    "\n",
    "### Problem Statement\n",
    "\n",
    "The second example we will consider is building a collection of classes to represent the information present in triangles. We've defined a class for points in two dimensions. You'll then use this to define a class for line segments (defined by two points), and then a class for triangles (defined by three points). We'll then add methods to calculate the area and perimeter of the triangle, and the length of the line segment.\n",
    "\n",
    "### The Point Class Defintion\n",
    "\n",
    " We'll define a class to represent a point in 2D space. You will then need to implement a line segment (to represent an edge for a triangle), and finally a triangle. We will add appropriate methods to each class to calculate the area and perimeter of a triangle and the length of a line segment."
   ]
  },
  {
   "cell_type": "code",
   "execution_count": 12,
   "metadata": {},
   "outputs": [],
   "source": [
    "from dataclasses import dataclass\n",
    "\n",
    "\n",
    "@dataclass\n",
    "class Point:\n",
    "    x: float\n",
    "    y: float"
   ]
  },
  {
   "cell_type": "markdown",
   "metadata": {},
   "source": [
    "Here we've used the `dataclass` decorator from the `dataclasses` module to define the class. This is a more concise way to define a class, and is particularly useful when the class is just a container for data.\n",
    "\n",
    "The `dataclass` decorator automatically adds an `__init__` method, and `__repr__` method, and `__eq__` method, and a few other things. The `__init__` method takes the same arguments as the class, and the `__repr__` method returns a string that can be used to recreate the object. The `__eq__` method checks if two objects are equal. "
   ]
  },
  {
   "cell_type": "code",
   "execution_count": 13,
   "metadata": {},
   "outputs": [
    {
     "name": "stdout",
     "output_type": "stream",
     "text": [
      "Point(x=1.0, y=2.0) Point(x=2.5, y=4.0)\n",
      "False\n",
      "True\n"
     ]
    }
   ],
   "source": [
    "# Examples of usage\n",
    "p1 = Point(1.0, 2.0)\n",
    "p2 = Point(x=2.5, y=4.0)\n",
    "\n",
    "print(p1, p2)\n",
    "print(p1 == p2)\n",
    "print(p1 == Point(1.0, 2.0))"
   ]
  },
  {
   "cell_type": "markdown",
   "metadata": {},
   "source": [
    "### The LineSegment Class Implementation\n",
    "\n",
    "Given the `Point` class definition above, we can now implement a `LineSegment` class which takes two `Point` objects as arguments to its `__init__` method. The `__init__` method should store these two points as attributes of the object. We'll also want a `length` method to calculate the length of the line segment."
   ]
  },
  {
   "cell_type": "code",
   "execution_count": 14,
   "metadata": {},
   "outputs": [],
   "source": [
    "class LineSegment:\n",
    "    def __init__(self, start: Point, end: Point):\n",
    "        # Write appropriate code here to store the start and end points\n",
    "        self.start = start\n",
    "        self.end = end\n",
    "\n",
    "    def __repr__(self):\n",
    "        return f\"LineSegment({self.start}, {self.end})\"\n",
    "\n",
    "    def length(self) -> float:\n",
    "        # Write appropriate code here, updating the class to\n",
    "        # return the length of the line segment\n",
    "        return np.linalg.norm((self.end.x - self.start.x, self.end.y - self.start.y))\n",
    "\n",
    "    def midpoint(self) -> Point:\n",
    "        x_mid = (self.start.x + self.end.x) / 2\n",
    "        y_mid = (self.start.y + self.end.y) / 2\n",
    "        return Point(x_mid, y_mid)\n",
    "\n",
    "    def contains(self, point: Point) -> bool:\n",
    "        try:\n",
    "            t = (point.x - self.start.x) / (self.end.x - self.start.x)\n",
    "            assert t == (point.y - self.start.y) / (self.end.y - self.start.y)\n",
    "            return 0 <= t <= 1\n",
    "        except AssertionError:\n",
    "            return False\n",
    "\n",
    "    def intersects(self, other) -> bool:\n",
    "        try:\n",
    "            A = np.matrix([[self.end.x - self.start.x, other.start.x - other.end.x], \n",
    "                           [self.end.y - self.start.y, other.start.y - other.end.y]])\n",
    "            b = np.array([[other.start.x - self.start.x], [other.start.y - self.start.y]])\n",
    "            t = A.I @ b\n",
    "            return 0 <= t[0][0] <= 1 and 0 <= t[1][0] <= 1\n",
    "            \n",
    "        except np.linalg.LinAlgError:\n",
    "            # check for colinearity\n",
    "            \n",
    "            points = [self.start, self.end, other.start, other.end]\n",
    "            points_x = [i.x for i in points]\n",
    "            point_x_max_index = points_x.index(max(points_x))\n",
    "            point_x_min_index = points_x.index(min(points_x))\n",
    "            big_line_segment = LineSegment(points[point_x_min_index], points[point_x_max_index])\n",
    "            points.remove(points[point_x_max_index])\n",
    "            points.remove(points[point_x_min_index])\n",
    "\n",
    "            return big_line_segment.contains(points[0])"
   ]
  },
  {
   "cell_type": "markdown",
   "metadata": {},
   "source": [
    "Here we've used the optional \"type hints\" feature of Python to specify the types of the arguments to the `__init__` method. This is not necessary (nor it is checked), but can be useful for documentation and for catching errors. The type hints are specified in the method signature, and are separated from the argument name by a colon. For example, `p1: Point` specifies that `p1` is a `Point` object. Similarly, `-> float` suggests that the `length` method returns a `float` object. Once again, this is not checked anywhere, and only provides a hint to the user, either in code or through documentation.\n",
    "\n",
    "We'll also need some tests on the class:"
   ]
  },
  {
   "cell_type": "code",
   "execution_count": 15,
   "metadata": {
    "tags": [
     "nbgrader"
    ]
   },
   "outputs": [],
   "source": [
    "from math import isclose\n",
    "\n",
    "p1 = Point(0, 0)\n",
    "p2 = Point(3, 4)\n",
    "\n",
    "assert isclose(LineSegment(p1, p2).length(), 5)"
   ]
  },
  {
   "cell_type": "markdown",
   "metadata": {},
   "source": [
    "#### Extending the LineSegment Class\n",
    "\n",
    "\n",
    "- add a method to the `LineSegment` class called `midpoint()`. It should return a `Point` object representing the midpoint of the line segment.\n",
    "- (more challenging) add a method to the `LineSegment` class called `intersects`. It should take another `LineSegment` object as an argument, and return `True` if the two line segments intersect, and `False` otherwise. You can assume that the line segments are not colinear if you'd like to reduce your workload.\n",
    "  As a hint, you can use the following algorithm to check if two line segments intersect:\n",
    "    - We can write any line segment as a parametric equation, i.e. $\\mathbf{r}(t) = \\mathbf{p}_1 + t(\\mathbf{p}_2 - \\mathbf{p}_1)$, where $\\mathbf{p}_1$ and $\\mathbf{p}_2$ are beginning and end of the line segment, and $t$ is a real number between 0 and 1.\n",
    "    - Two line segments intersect if and only if the parametric equations of the two line segments have a common solution, i.e. there exists $t_1$ and $t_2$ such that $\\mathbf{r}_1(t_1) = \\mathbf{r}_2(t_2)$.\n",
    "    - Substituting the parametric equations into the equation $\\mathbf{r}_1(t_1) = \\mathbf{r}_2(t_2)$, we get a system of 2 linear equations in $t_1$ and $t_2$. If the system has a solution (and the values of $t_1$ and $t_2$ are in the range $0-1$), then the line segments intersect."
   ]
  },
  {
   "cell_type": "code",
   "execution_count": 16,
   "metadata": {
    "tags": [
     "nbgrader"
    ]
   },
   "outputs": [],
   "source": [
    "p1 = Point(-2, -2)\n",
    "p2 = Point(2, 2)\n",
    "\n",
    "assert LineSegment(p1, p2).midpoint() == Point(0, 0)\n",
    "\n",
    "line_segment1 = LineSegment(Point(0, 0), Point(10, 10))\n",
    "line_segment2 = LineSegment(Point(1, 1), Point(11, 11))\n",
    "line_segment3 = LineSegment(Point(10, 0), Point(0, 10))\n",
    "line_segment4 = LineSegment(Point(0, 0), Point(10, 10))\n",
    "\n",
    "#assert not line_segment1.intersects(line_segment2) # I disagree with this assertion, the line segments intersect at infinitely many points\n",
    "assert line_segment1.intersects(line_segment3)\n",
    "assert line_segment3.intersects(line_segment4)"
   ]
  },
  {
   "cell_type": "code",
   "execution_count": 17,
   "metadata": {
    "tags": [
     "pybryt"
    ]
   },
   "outputs": [
    {
     "name": "stdout",
     "output_type": "stream",
     "text": [
      "REFERENCE: exercise-5_2\n",
      "SATISFIED: True\n",
      "MESSAGES:\n",
      "  - SUCCESS: Your repr method is correctly implemented. Well done!\n",
      "  - SUCCESS: Your length method is correct.\n",
      "  - SUCCESS: Your midpoint calculation (x) is correct.\n",
      "  - SUCCESS: Your midpoint calculation (y) is correct.\n",
      "  - SUCCESS: Your intersection calculation seems to be correct.\n"
     ]
    }
   ],
   "source": [
    "with pybryt.check(pybryt_reference(5, 2)):\n",
    "    l1 = LineSegment(Point(0, 0), Point(1, 1))\n",
    "    l2 = LineSegment(Point(0, 1), Point(1, 0))\n",
    "\n",
    "    repr(l1)\n",
    "    l1.length()\n",
    "    l2.midpoint().x\n",
    "    l2.midpoint().y\n",
    "    l1.intersects(l2)"
   ]
  },
  {
   "cell_type": "markdown",
   "metadata": {},
   "source": [
    "### The Triangle class Implementation\n",
    "\n",
    "Finally, we need to implement a `Triangle` class. We'll choose to use an initialisation method that takes three `Point` objects as arguments, and stores them as attributes of the object. We'll also want methods to calculate the area and perimeter of the triangle."
   ]
  },
  {
   "cell_type": "code",
   "execution_count": 18,
   "metadata": {},
   "outputs": [],
   "source": [
    "class Triangle:\n",
    "    def __init__(self, a: Point, b: Point, c: Point):\n",
    "        # Write appropriate code here, accepting three Points as arguments,\n",
    "        # representing the three vertices of the triangle.\n",
    "        self.a = a\n",
    "        self.b = b\n",
    "        self.c = c\n",
    "\n",
    "        self.linesegment1 = LineSegment(self.a, self.b)\n",
    "        self.linesegment2 = LineSegment(self.b, self.c)\n",
    "        self.linesegment3 = LineSegment(self.c, self.a)\n",
    "\n",
    "    def edges(self) -> tuple:\n",
    "        return (self.linesegment1, self.linesegment2, self.linesegment3)\n",
    "    \n",
    "    def area(self) -> float:\n",
    "        # Write appropriate code here, returning the area of the triangle.\n",
    "        # You can use the formula from lecture 4, or any other method you prefer\n",
    "        s = 0.5 * sum([i.length() for i in self.edges()])\n",
    "        # Heron's formula\n",
    "        A = np.sqrt(s * (s - self.linesegment1.length()) * (s - self.linesegment2.length()) * (s - self.linesegment3.length()))\n",
    "        return A\n",
    "\n",
    "    def perimeter(self) -> float:\n",
    "        # Write appropriate code here, returning the perimeter of the triangle\n",
    "        length = 0\n",
    "        for edge in self.edges():\n",
    "            length += edge.length()\n",
    "        return length\n",
    "\n",
    "    def angles(self) -> tuple:\n",
    "        edge_lengths = [i.length() for i in self.edges()]\n",
    "        angles = [np.arccos((edge_lengths[(1 + i) % 3]**2 + edge_lengths[(2 + i) % 3]**2 - edge_lengths[(3 + i) % 3]**2 ) / (2 * edge_lengths[(1 + i) % 3] * edge_lengths[(2 + i) % 3])) for i in range(3)]\n",
    "        return tuple(angles)\n",
    "\n",
    "    def contains_point(self, p : Point) -> bool:\n",
    "        for edge in self.edges():\n",
    "            normal_vector = [-(edge.end.y - edge.start.y), -(edge.start.x - edge.end.x)]\n",
    "            vector_from_vertex_to_point = [-edge.start.x + p.x, -edge.start.y + p.y]            \n",
    "            if sum([normal_vector[i] * vector_from_vertex_to_point[i] for i in range(2)]) < 0:\n",
    "                return False\n",
    "        return True\n",
    "            "
   ]
  },
  {
   "cell_type": "code",
   "execution_count": 19,
   "metadata": {},
   "outputs": [
    {
     "name": "stdout",
     "output_type": "stream",
     "text": [
      "True\n"
     ]
    }
   ],
   "source": [
    "p1 = Point(0, 0)\n",
    "p2 = Point(3, 0)\n",
    "p3 = Point(0, 4)\n",
    "\n",
    "t = Triangle(p1, p2, p3)\n",
    "print(t.contains_point(Point(0.5, 0.5)))"
   ]
  },
  {
   "cell_type": "code",
   "execution_count": 20,
   "metadata": {
    "tags": [
     "nbgrader"
    ]
   },
   "outputs": [],
   "source": [
    "import math\n",
    "p1 = Point(0, 0)\n",
    "p2 = Point(1, 0)\n",
    "p3 = Point(0, 1)\n",
    "\n",
    "t = Triangle(p1, p2, p3)\n",
    "\n",
    "assert isclose(t.area(), 0.5), \"Check your area calculation\"\n",
    "assert isclose(t.perimeter(), 1 + 1 + math.sqrt(2)), \"Check your perimeter calculation\"\n",
    "assert isclose(t.edges()[0].length(), 1)\n",
    "assert isclose(t.edges()[1].length(), math.sqrt(2))\n",
    "assert isclose(t.edges()[2].length(), 1)\n",
    "assert isclose(t.angles()[0], math.pi / 4)\n",
    "assert isclose(t.angles()[1], math.pi / 2)\n",
    "assert isclose(t.angles()[2], math.pi / 4)\n",
    "assert not t.contains_point(Point(1, 1))"
   ]
  },
  {
   "cell_type": "markdown",
   "metadata": {},
   "source": [
    "### Extending the Triangle Class\n",
    "\n",
    "- add a new method to the `Triangle` class, `edges()`, that returns a `tuple` containing the three `LineSegment`s which form the edges of the `Triangle`. \n",
    "The edges should be ordered so that the first vertex of the first edge is the first vertex of the triangle, and the second vertex of the first edge is the second vertex of the triangle, as well as being the first vertex of the second edge, and so on.\n",
    "- add a method to the `Triangle` class called  `angles()`. It should return a tuple of three floats, each representing the interior angle _in radians_ of the vertices of the triangle, ordered so that the first angle is at the first vertex of the triangle, and so on.\n",
    "- (more challenging) add a method to the `Triangle` class called `contains_point` that takes a `Point` object as an argument, and returns `True` if the point is inside (or on an edge of) the triangle, and `False` otherwise. You can use the following algorithm to solve this problem:\n",
    "  - For each edge of the triangle, calculate the normal vector to the edge.   you can do this by calculating\n",
    "    $$\\mathbf{n} = \\begin{pmatrix} y_2 - y_1 \\\\ x_1 - x_2 \\end{pmatrix},$$\n",
    "    where $(x_1, y_1)$ and $(x_2, y_2)$ are the coordinates of the two vertices of the edge.\n",
    "  - Calculate the vector from one of the vertices of the edge to the point.\n",
    "  - If the dot product of these two vectors is positive for all edges, then the point is inside the triangle. If the dot product is negative for any edge, then the point is outside the triangle. If the dot product is zero for an edge, (and positive for the others) then the point is on the edge of the triangle.\n",
    "  \n",
    "  You can use additional packages such as  `numpy`if you like, but it is not necessary.\n"
   ]
  },
  {
   "cell_type": "code",
   "execution_count": 21,
   "metadata": {
    "tags": [
     "nbgrader"
    ]
   },
   "outputs": [],
   "source": [
    "p1 = Point(0, 0)\n",
    "p2 = Point(1, 0)\n",
    "p3 = Point(0, 1)\n",
    "\n",
    "t = Triangle(p1, p2, p3)\n",
    "\n",
    "assert isclose(t.edges()[0].length(), 1)\n",
    "assert isclose(t.edges()[1].length(), math.sqrt(2))\n",
    "assert isclose(t.edges()[2].length(), 1)\n",
    "assert isclose(t.angles()[0], math.pi / 4)\n",
    "assert isclose(t.angles()[1], math.pi / 2)\n",
    "assert isclose(t.angles()[2], math.pi / 4)\n",
    "assert not t.contains_point(Point(1, 1))"
   ]
  },
  {
   "cell_type": "markdown",
   "metadata": {},
   "source": [
    "### Extending the shape design via inheritance (optional)\n",
    "\n",
    "- We can also extend functionality to allow for more shapes, such as squares, hexagons and so on. The \"best\" way to do this in Python is to define a new \"abstract\" class called `Polygon` that implements reusable methods for generic shapes (where possible) in terms of the Points or edges of the polygon, and then define a new class for each shape that inherits from `Polygon` as a base class and which implements the methods that are specific to that shape (for example the `area` method for a triangle is different to the `area` method for a square).\n",
    "\n",
    "By defining `Polygon` as "
   ]
  },
  {
   "cell_type": "code",
   "execution_count": 22,
   "metadata": {},
   "outputs": [],
   "source": [
    "from abc import ABC, abstractmethod\n",
    "\n",
    "\n",
    "class Polygon(ABC):\n",
    "    def __init__(self, vertices):\n",
    "        self.vertices = vertices\n",
    "\n",
    "    def perimeter(self):\n",
    "        length = 0\n",
    "        for edge in self.edges():\n",
    "            length += edge.length()\n",
    "        return length\n",
    "\n",
    "    def edges(self):\n",
    "        edges = []\n",
    "        for i in range(len(self.vertices)):\n",
    "            edges.append(LineSegment(self.vertices[i], self.vertices[(i + 1) % (len(self.vertices) - 1)]))\n",
    "        return edges\n",
    "            \n",
    "\n",
    "    @abstractmethod\n",
    "    def area(self):\n",
    "        # Write appropriate code here, returning the area of the polygon\n",
    "        raise NotImplementedError"
   ]
  },
  {
   "cell_type": "code",
   "execution_count": 23,
   "metadata": {},
   "outputs": [],
   "source": [
    "class Quadrilateral(Polygon):\n",
    "    def __init__(self, vertices):\n",
    "        # Here, super() will call the __init__ method of the parent class -\n",
    "        # Polygon.__init__().\n",
    "        super().__init__(vertices)\n",
    "\n",
    "    def area(self):\n",
    "        # Write appropriate code here, returning the area of the quadrilateral.\n",
    "        t1 = Triangle(self.vertices[0], self.vertices[1], self.vertices[2])\n",
    "        t2 = Triangle(self.vertices[2], self.vertices[3], self.vertices[0])\n",
    "        return t1.area() + t2.area()"
   ]
  },
  {
   "cell_type": "code",
   "execution_count": 24,
   "metadata": {},
   "outputs": [
    {
     "name": "stdout",
     "output_type": "stream",
     "text": [
      "1.9999999999999984\n"
     ]
    }
   ],
   "source": [
    "p1 = Point(1, 1)\n",
    "p2 = Point(1, 0)\n",
    "p3 = Point(-1, -1)\n",
    "p4 = Point(-1, 0)\n",
    "\n",
    "q1 = Quadrilateral([p1, p2, p3, p4])\n",
    "print(q1.area())"
   ]
  },
  {
   "cell_type": "markdown",
   "metadata": {},
   "source": [
    "## Example 3: Designing your own class\n",
    "\n",
    "### Problem Statement\n",
    "\n",
    "The final problem is always the most challenging: designing your own class from scratch. We'll give you a problem statement, and you'll need to design a class to solve it. The problem statement is as follows:\n",
    "\n",
    "Build a class to represent the data provided from a [weather station](https://en.wikipedia.org/wiki/Weather_station). The station has the following fixed data attached to it:\n",
    "- A name (a string)\n",
    "- A location (a tuple of two floats, representing the latitude and longitude)\n",
    "- A height above sea level (a float, representing the height in meters)\n",
    "\n",
    "The station also has (at a minimum) the following data that change over time:\n",
    "\n",
    "- A temperature (a float, representing the temperature in degrees Celsius)\n",
    "- A humidity (a float, representing the humidity as a percentage)\n",
    "- The pressure (a float, representing the pressure in hPa)\n",
    "\n",
    "The class should have methods to do the following:\n",
    "\n",
    "- An initialisation method (`__init__`) that takes the name, location, and height above sea level as arguments, and stores them, as well as doing some initialisation of the temperature, humidity and pressure (plus other variables if you've added them).\n",
    "- A method to update the temperature, humidity, and pressure.\n",
    "- Appropriately implemented `__str__` and `__repr__` methods.\n",
    "- Methods to calculate appropriate \"weather\" metrics, such as the [dew point](https://en.wikipedia.org/wiki/Dew_point) (it's ok to use the simplified formula), the [heat index](https://en.wikipedia.org/wiki/Heat_index), and so on, and to convert between different temperature scales (e.g. Celsius, Fahrenheit, Kelvin). You may want to make use of the `@property` decorator to make these methods feel like attributes to the user."
   ]
  },
  {
   "cell_type": "code",
   "execution_count": 25,
   "metadata": {},
   "outputs": [],
   "source": [
    "# Write your class here. As with previous examples, you may\n",
    "# want to test aspects of your class as you go along\n",
    "class WeatherStation:\n",
    "    def __init__(self, name, location, height, temp = 20, humidity = 30, pressure = 1000):\n",
    "        self._name = name\n",
    "        self._location = location\n",
    "        self._height = height\n",
    "        self._temperature = temp # in celcius\n",
    "        self._humidity = humidity # percentage\n",
    "        self._pressure = pressure # in hPa\n",
    "\n",
    "    def update_temperature(self, new_temp):\n",
    "        self._temperature = new_temp\n",
    "\n",
    "    def get_temp_farenheit(self):\n",
    "        return 9 / 5 * self._temperature + 32\n",
    "\n",
    "    def get_temp_kelvin(self):\n",
    "        return self._temperature + 273\n",
    "\n",
    "    def update_humidity(self, new_humidity):\n",
    "        self._humidity = new_humidity\n",
    "\n",
    "    def update_pressure(self, new_pressure):\n",
    "        self._pressure = new_pressure\n",
    "\n",
    "    def __str__(self):\n",
    "        return f\"WeatherStation_{self._name}\"\n",
    "\n",
    "    def __repr__(self):\n",
    "        return f\"WeatherStation name = {self._name}, loc = {self._location}, height = {self._height}\"\n",
    "\n",
    "    def dew_point(self):\n",
    "        b = 17.625\n",
    "        c = 243.04\n",
    "        def gamma(temp = self._temperature, humidity = self._humidity):\n",
    "            return np.log(humidity / 100) + (b * temp) / (c + temp)\n",
    "        T_d = (c * gamma()) / (b - gamma())\n",
    "        return T_d\n",
    "\n",
    "    def heat_index(self):\n",
    "        c1 = -42.379\n",
    "        c2 = 2.04901523\n",
    "        c3 = 10.14333127\n",
    "        c4 = -0.22475541\n",
    "        c5 = -6.83783e-3\n",
    "        c6 = -5.481717e-2\n",
    "        c7 = 1.22874e-3\n",
    "        c8 = 8.5282e-4\n",
    "        c9 = 1.99e-6\n",
    "        T = self.get_temp_farenheit()\n",
    "        R = self._humidity\n",
    "        return c1 + c2 * T + c3 * R + c4 * T * R + c5 * T**2 + c6 * R**2 + c7 * T**2 * R + c8 * T * R**2 + c9 * T**2 * R**2"
   ]
  },
  {
   "cell_type": "code",
   "execution_count": 26,
   "metadata": {},
   "outputs": [
    {
     "name": "stdout",
     "output_type": "stream",
     "text": [
      "1.8917424466365766\n",
      "92.72433922000006\n"
     ]
    }
   ],
   "source": [
    "w1 = WeatherStation(\"weatheria\", (11.4, 12.5), 12.5)\n",
    "print(w1.dew_point())\n",
    "print(w1.heat_index())"
   ]
  }
 ],
 "metadata": {
  "kernelspec": {
   "display_name": "Python 3 (ipykernel)",
   "language": "python",
   "name": "python3"
  },
  "language_info": {
   "codemirror_mode": {
    "name": "ipython",
    "version": 3
   },
   "file_extension": ".py",
   "mimetype": "text/x-python",
   "name": "python",
   "nbconvert_exporter": "python",
   "pygments_lexer": "ipython3",
   "version": "3.11.6"
  }
 },
 "nbformat": 4,
 "nbformat_minor": 4
}
